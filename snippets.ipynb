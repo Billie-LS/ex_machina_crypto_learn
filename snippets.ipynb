{
 "cells": [
  {
   "cell_type": "code",
   "execution_count": null,
   "id": "13033588-b620-4729-a988-40cb857632ad",
   "metadata": {},
   "outputs": [],
   "source": [
    "# Plot the clusters using the \"feature_1\" columns againsts the othe nine columns\n",
    "column_names = list(customers_df.columns[1:-1])\n",
    "customers_predictions_df.hvplot.scatter(\n",
    "    x=\"feature_1\",\n",
    "    y=column_names,\n",
    "    subplots=True,\n",
    "    color=\"customer_segments\",\n",
    "    cmap=\"plasma\"\n",
    ").cols(1)"
   ]
  },
  {
   "cell_type": "code",
   "execution_count": null,
   "id": "eb2ba4a2-bcfa-4e9c-b531-56567d9ef9c9",
   "metadata": {},
   "outputs": [],
   "source": [
    "# new data frame with split value columns\n",
    "new = top_100_crypto_data['Available Supply'].str.split(' ', n = 2, expand = True)\n",
    " \n",
    "# making separate numeric column from new data frame\n",
    "top_100_crypto_data['number']= new[0]\n",
    " \n",
    "# making separate Unit value column from new data frame\n",
    "top_100_crypto_data['unit']= new[1]\n",
    " \n",
    "# making separate coin name column from new data frame\n",
    "top_100_crypto_data['supply'] = top_100_crypto_data['number'] + top_100_crypto_data['unit']\n",
    "    \n",
    "# Dropping old Name columns\n",
    "top_100_crypto_data.drop(columns =['Available Supply', 'number', 'unit'], inplace = True)\n",
    " \n",
    "# df display\n",
    "top_100_crypto_data.head(3)"
   ]
  },
  {
   "cell_type": "code",
   "execution_count": null,
   "id": "d9403b20-8114-49cd-9952-53a32626b4c3",
   "metadata": {},
   "outputs": [],
   "source": []
  }
 ],
 "metadata": {
  "kernelspec": {
   "display_name": "Python 3 (ipykernel)",
   "language": "python",
   "name": "python3"
  },
  "language_info": {
   "codemirror_mode": {
    "name": "ipython",
    "version": 3
   },
   "file_extension": ".py",
   "mimetype": "text/x-python",
   "name": "python",
   "nbconvert_exporter": "python",
   "pygments_lexer": "ipython3",
   "version": "3.9.13"
  }
 },
 "nbformat": 4,
 "nbformat_minor": 5
}
