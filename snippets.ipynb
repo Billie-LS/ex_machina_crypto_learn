{
 "cells": [
  {
   "cell_type": "code",
   "execution_count": null,
   "id": "13033588-b620-4729-a988-40cb857632ad",
   "metadata": {},
   "outputs": [],
   "source": [
    "# Plot the clusters using the \"feature_1\" columns againsts the othe nine columns\n",
    "column_names = list(customers_df.columns[1:-1])\n",
    "customers_predictions_df.hvplot.scatter(\n",
    "    x=\"feature_1\",\n",
    "    y=column_names,\n",
    "    subplots=True,\n",
    "    color=\"customer_segments\",\n",
    "    cmap=\"plasma\"\n",
    ").cols(1)"
   ]
  },
  {
   "cell_type": "code",
   "execution_count": null,
   "id": "fdb1bd8c-f911-4159-a94a-517ad24e7168",
   "metadata": {},
   "outputs": [],
   "source": [
    "# transform 'Changes 24H' from percent to float value\n",
    "top_100_crypto_data['Changes 24H'] = top_100_crypto_data['Changes 24H'].str.rstrip('%').astype('float') / 100.0\n",
    "# transform 'Changes 7D' from percent to float value\n",
    "top_100_crypto_data['Changes 7D'] = top_100_crypto_data['Changes 7D'].str.rstrip('%').astype('float') / 100.0\n",
    "# transform 'Changes 30D' from percent to float value\n",
    "top_100_crypto_data['Changes 30D'] = top_100_crypto_data['Changes 30D'].str.rstrip('%').astype('float') / 100.0\n",
    "# transform 'Changes 1Y' from percent to float value\n",
    "top_100_crypto_data['Changes 1Y'] = top_100_crypto_data['Changes 1Y'].str.rstrip('%').astype('float') / 100.0\n"
   ]
  },
  {
   "cell_type": "code",
   "execution_count": null,
   "id": "eb2ba4a2-bcfa-4e9c-b531-56567d9ef9c9",
   "metadata": {},
   "outputs": [],
   "source": [
    "# new data frame with split value columns\n",
    "new = top_100_crypto_data['Available Supply'].str.split(' ', n = 2, expand = True)\n",
    " \n",
    "# making separate numeric column from new data frame\n",
    "top_100_crypto_data['number']= new[0]\n",
    " \n",
    "# making separate Unit value column from new data frame\n",
    "top_100_crypto_data['unit']= new[1]\n",
    " \n",
    "# making separate coin name column from new data frame\n",
    "top_100_crypto_data['supply'] = top_100_crypto_data['number'] + top_100_crypto_data['unit']\n",
    "    \n",
    "# Dropping old Name columns\n",
    "top_100_crypto_data.drop(columns =['Available Supply', 'number', 'unit'], inplace = True)\n",
    " \n",
    "# df display\n",
    "top_100_crypto_data.head(3)"
   ]
  },
  {
   "cell_type": "code",
   "execution_count": null,
   "id": "d9403b20-8114-49cd-9952-53a32626b4c3",
   "metadata": {},
   "outputs": [],
   "source": [
    "def new_supply(dirty_dataframe):\n",
    "    dataframe = dirty_dataframe\n",
    "    # new data frame with split 'Available Supply' into columns\n",
    "    new = dataframe['Available Supply'].str.split(' ', n = 2, expand = True)\n",
    "    # making separate numeric column from new data frame\n",
    "    dataframe['number']= new[0]\n",
    "    # making separate Unit value column from new data frame\n",
    "    dataframe['unit']= new[1]\n",
    "    # transform contents of 'Available Supply' column from new data frame\n",
    "    dataframe['Available Supply'] = dataframe['number'] + dataframe['unit']\n",
    "    dataframe['Available Supply'] = dataframe['Available Supply'].astype(str)\n",
    "    # Dropping old Name columns\n",
    "    dataframe.drop(columns =['number', 'unit'], inplace = True)\n",
    "    clean_dataframe = dataframe\n",
    "    return clean_dataframe['Available Supply']"
   ]
  },
  {
   "cell_type": "code",
   "execution_count": null,
   "id": "47915674-0552-4036-87ab-13a636b97649",
   "metadata": {},
   "outputs": [],
   "source": [
    "def new_supply(dirty_dataframe):\n",
    "    dataframe = dirty_dataframe\n",
    "    # new data frame with split 'Available Supply' into columns\n",
    "    new = dataframe['Available Supply'].str.split(' ', n = 2, expand = True)\n",
    "    # making separate numeric column from new data frame\n",
    "    dataframe['number']= new[0]\n",
    "    # making separate Unit value column from new data frame\n",
    "    dataframe['unit']= new[1]\n",
    "    # transform contents of 'Available Supply' column from new data frame\n",
    "    dataframe['Available Supply'] = dataframe['number'] + dataframe['unit']\n",
    "    # Dropping old Name columns\n",
    "    dataframe.drop(columns =['number', 'unit'], inplace = True)\n",
    "    dataframe['Available Supply'] = dataframe['Available Supply'].astype(str)\n",
    "    clean_dataframe = dataframe\n",
    "    return clean_dataframe['Available Supply']"
   ]
  },
  {
   "cell_type": "code",
   "execution_count": null,
   "id": "f8e97155-6b50-468c-9a25-12c767b6d4c5",
   "metadata": {},
   "outputs": [],
   "source": []
  },
  {
   "cell_type": "code",
   "execution_count": null,
   "id": "ef60d3db-b540-4fde-ba06-f618cf90f2f3",
   "metadata": {},
   "outputs": [],
   "source": [
    "def clean_crypto_volume (volume_string):\n",
    "    volume = volume_string\n",
    "    if type(volume_string) == str:\n",
    "        if volume_string[-1] == 'K':\n",
    "            thousand = 1000\n",
    "            volume_string = volume_string.replace('$', '')\n",
    "            volume_string = volume_string.replace('K', '')\n",
    "            volume = float(volume_string)\n",
    "            volume *= thousand\n",
    "        elif volume_string[-1] == 'M':\n",
    "            million = 1000000\n",
    "            volume_string = volume_string.replace('$', '')\n",
    "            volume_string = volume_string.replace('M', '')\n",
    "            volume = float(volume_string)\n",
    "            volume *= million\n",
    "        else:\n",
    "            billion = 1000000000\n",
    "            volume_string = volume_string.replace('$', '')\n",
    "            volume_string = volume_string.replace('B', '')\n",
    "            volume = float(volume_string)\n",
    "            volume *= billion\n",
    "    return volume"
   ]
  },
  {
   "cell_type": "code",
   "execution_count": null,
   "id": "85afa349-de57-4b6e-8fdb-fbd581de2472",
   "metadata": {},
   "outputs": [],
   "source": [
    "def new_supply(dirty_supply_string):\n",
    "    supply = dirty_supply_string\n",
    "    if type(dirty_supply_string) == str:\n",
    "        dirty_supply_string = dirty_supply_string.str.split(' ', n = 2, expand = True)\n",
    "        \n",
    "        if dirty_supply_string\n",
    "    # new data frame with split 'Available Supply' into columns\n",
    "    new = dataframe['Available Supply'].str.split(' ', n = 2, expand = True)\n",
    "    # making separate numeric column from new data frame\n",
    "    dataframe['number']= new[0]\n",
    "    # making separate Unit value column from new data frame\n",
    "    dataframe['unit']= new[1]\n",
    "    # transform contents of 'Available Supply' column from new data frame\n",
    "    dataframe['Available Supply'] = dataframe['number'] + dataframe['unit']\n",
    "    # Dropping old Name columns\n",
    "    dataframe.drop(columns =['number', 'unit'], inplace = True)\n",
    "    clean_dataframe = dataframe\n",
    "    return clean_dataframe['Available Supply']"
   ]
  },
  {
   "cell_type": "code",
   "execution_count": null,
   "id": "9fd364e6-4462-428a-9ef8-a44804a7ae63",
   "metadata": {},
   "outputs": [],
   "source": [
    "top_100_crypto_data['Available Supply'] = top_100_crypto_data['Available Supply'].apply(new_supply)\n",
    "top_100_crypto_data.head(3)"
   ]
  },
  {
   "cell_type": "code",
   "execution_count": null,
   "id": "ac0d3d78-aac1-4e2a-91ac-55bc5d53f8c2",
   "metadata": {},
   "outputs": [],
   "source": [
    "def new_supply(dirty_dataframe):\n",
    "    dataframe = dirty_dataframe\n",
    "    # new data frame with split 'Available Supply' into columns\n",
    "    new = dataframe['Available Supply'].str.split(' ', n = 2, expand = True)\n",
    "    # making separate numeric column from new data frame\n",
    "    dataframe['number']= new[0]\n",
    "    # making separate Unit value column from new data frame\n",
    "    dataframe['unit']= new[1]\n",
    "    # transform contents of 'Available Supply' column from new data frame\n",
    "    dataframe['Available Supply'] = dataframe['number'] + dataframe['unit']\n",
    "    # Dropping old Name columns\n",
    "    dataframe.drop(columns =['number', 'unit'], inplace = True)\n",
    "    clean_dataframe = dataframe\n",
    "    return clean_dataframe['Available Supply']"
   ]
  },
  {
   "cell_type": "code",
   "execution_count": null,
   "id": "6e2a2aeb-c453-4b44-9b64-1976794373bd",
   "metadata": {},
   "outputs": [],
   "source": [
    "top_100_crypto_data['Available Supply'] = top_100_crypto_data['Available Supply'].apply(new_supply)\n",
    "top_100_crypto_data.head(3)"
   ]
  },
  {
   "cell_type": "code",
   "execution_count": null,
   "id": "f6b82380-4fcb-45e6-b55e-3ea42ca897f5",
   "metadata": {},
   "outputs": [],
   "source": [
    "def clean_crypto_volume (price_string):\n",
    "    price = price_string\n",
    "    if type(price_string) == str:\n",
    "        if price_string[-1] == ' K ':\n",
    "            thousand = 1000\n",
    "            price_string = price_string.replace('$', '')\n",
    "            price_string = price_string.replace('M', '')\n",
    "            price = float(price_string)\n",
    "            price *= million\n",
    "        elif price_string[-1] == 'M':\n",
    "            million = 1000000\n",
    "            price_string = price_string.replace('$', '')\n",
    "            price_string = price_string.replace('M', '')\n",
    "            price = float(price_string)\n",
    "            price *= million\n",
    "        elif price_string[-1] == 'B':\n",
    "            billion = 1000000000\n",
    "            price_string = price_string.replace('$', '')\n",
    "            price_string = price_string.replace('B', '')\n",
    "            price = float(price_string)\n",
    "            price *= billion\n",
    "        else:\n",
    "            trillion = 1000000000000\n",
    "            price_string = price_string.replace('$', '')\n",
    "            price_string = price_string.replace('T', '')\n",
    "            price = float(price_string)\n",
    "            price *= trillion\n",
    "    return price"
   ]
  },
  {
   "cell_type": "code",
   "execution_count": null,
   "id": "9e0fc723-6187-4729-b841-680ce1b0384b",
   "metadata": {},
   "outputs": [],
   "source": [
    "# scrape CoinMarketCap for top 100 cryptocurrency coins\n",
    "pd.option_context('display.max_rows', None, 'display.max_columns', None)\n",
    "\n",
    "crypto_200_data_list = pd.read_html('https://coinmarketcap.com/all/views/all/') \n",
    "display(crypto_200_data_list)"
   ]
  }
 ],
 "metadata": {
  "kernelspec": {
   "display_name": "Python 3 (ipykernel)",
   "language": "python",
   "name": "python3"
  },
  "language_info": {
   "codemirror_mode": {
    "name": "ipython",
    "version": 3
   },
   "file_extension": ".py",
   "mimetype": "text/x-python",
   "name": "python",
   "nbconvert_exporter": "python",
   "pygments_lexer": "ipython3",
   "version": "3.9.13"
  }
 },
 "nbformat": 4,
 "nbformat_minor": 5
}
