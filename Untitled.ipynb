{
 "cells": [
  {
   "cell_type": "code",
   "execution_count": null,
   "id": "3b875548-8cfe-4e4a-bd46-ff2b2b818a4c",
   "metadata": {},
   "outputs": [],
   "source": [
    "# Plot the clusters using the \"feature_1\" columns againsts the othe nine columns\n",
    "column_names = list(customers_df.columns[1:-1])\n",
    "customers_predictions_df.hvplot.scatter(\n",
    "    x=\"feature_1\",\n",
    "    y=column_names,\n",
    "    subplots=True,\n",
    "    color=\"customer_segments\",\n",
    "    cmap=\"plasma\"\n",
    ").cols(1)"
   ]
  }
 ],
 "metadata": {
  "kernelspec": {
   "display_name": "Python 3 (ipykernel)",
   "language": "python",
   "name": "python3"
  },
  "language_info": {
   "codemirror_mode": {
    "name": "ipython",
    "version": 3
   },
   "file_extension": ".py",
   "mimetype": "text/x-python",
   "name": "python",
   "nbconvert_exporter": "python",
   "pygments_lexer": "ipython3",
   "version": "3.9.13"
  }
 },
 "nbformat": 4,
 "nbformat_minor": 5
}
